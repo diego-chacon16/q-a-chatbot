{
 "cells": [
  {
   "cell_type": "markdown",
   "id": "08dd6129-89e0-4743-aa2d-c6ae4196c6cf",
   "metadata": {},
   "source": [
    "# Deep Learning QA Bot\n",
    "\n",
    "## Loading the data\n",
    "\n",
    "We will be working with the Babi Data Set from Facebook Research.\n",
    "\n",
    "Full Details: https://research.fb.com/downloads/babi/\n",
    "\n",
    "- Jason Weston, Antoine Bordes, Sumit Chopra, Tomas Mikolov, Alexander M. Rush,\n",
    "  \"Towards AI-Complete Question Answering: A Set of Prerequisite Toy Tasks\",\n",
    "  http://arxiv.org/abs/1502.05698\n",
    "\n",
    "- End-to-End Memory Networks, https://arxiv.org/pdf/1503.08895.pdf\n",
    "\n",
    "## Goal of this Project\n",
    "\n",
    "+ To implement as chat bot that can answer questions basded on a \"story\" given to the bot\n",
    "\n",
    "# There will be three components to this project\n",
    "\n",
    "### Example\n",
    "\n",
    "+ Story: Jane went to the store. Mike ran to the bedroom.\n",
    "\n",
    "+ Question: Is Mike in the store?\n",
    "\n",
    "+ Goal - Bot to answer: No\n",
    "\n",
    "\n",
    "\n",
    "# How the QA Bot Network Works\n",
    "\n",
    "+ Model takes a discrete set of inputs that are to be stored in the memory\n",
    "+ It will take a corresponding question and output an answer\n",
    "+ Each of the inputs, questions and answers contain symbols coming from a dictionary with vocabulary words\n",
    "+ Model then write all of the text to the memory up to a fixed buffer size, and then finds a continuous representation for the text and question"
   ]
  },
  {
   "cell_type": "code",
   "execution_count": 1,
   "id": "197fc869-245b-47da-b9ae-3163a42675c3",
   "metadata": {},
   "outputs": [],
   "source": [
    "# importing libraries\n",
    "\n",
    "import pickle\n",
    "import numpy as np"
   ]
  },
  {
   "cell_type": "code",
   "execution_count": 2,
   "id": "dd94f590-3e9f-46a4-ba6e-12ae21009da2",
   "metadata": {},
   "outputs": [],
   "source": [
    "# unpickling train text data and storing it into a variable\n",
    "\n",
    "with open(\"train_qa.txt\", \"rb\") as fp:    # Unpickling\n",
    "    train_data = pickle.load(fp)"
   ]
  },
  {
   "cell_type": "code",
   "execution_count": 3,
   "id": "8f664d0a-1c20-468e-b6eb-66db055064a8",
   "metadata": {},
   "outputs": [],
   "source": [
    "# unpickling test text data and storing it into a variable\n",
    "\n",
    "with open(\"test_qa.txt\", \"rb\") as fp:    # Unpickling\n",
    "    test_data = pickle.load(fp)"
   ]
  },
  {
   "cell_type": "markdown",
   "id": "a22b0903-4db7-4e2c-b64f-fff9f02d0d71",
   "metadata": {},
   "source": [
    "## Exploring the Format of the Data"
   ]
  },
  {
   "cell_type": "code",
   "execution_count": 4,
   "id": "a67922ce-b977-4e74-9b94-9511a9b6d5a4",
   "metadata": {},
   "outputs": [
    {
     "data": {
      "text/plain": [
       "list"
      ]
     },
     "execution_count": 4,
     "metadata": {},
     "output_type": "execute_result"
    }
   ],
   "source": [
    "# using the type function to understand the type of object the test data is\n",
    "\n",
    "type(test_data)"
   ]
  },
  {
   "cell_type": "code",
   "execution_count": 5,
   "id": "1358b925-9b6c-4d87-b263-dd27d253bd56",
   "metadata": {},
   "outputs": [
    {
     "data": {
      "text/plain": [
       "list"
      ]
     },
     "execution_count": 5,
     "metadata": {},
     "output_type": "execute_result"
    }
   ],
   "source": [
    "# using the type function to understand the type of object the training data is\n",
    "\n",
    "type(train_data)"
   ]
  },
  {
   "cell_type": "code",
   "execution_count": 6,
   "id": "4dae8c03-a2c0-46be-a700-ef3ca472b262",
   "metadata": {},
   "outputs": [
    {
     "data": {
      "text/plain": [
       "1000"
      ]
     },
     "execution_count": 6,
     "metadata": {},
     "output_type": "execute_result"
    }
   ],
   "source": [
    "# now looking at the length of the test data\n",
    "\n",
    "len(test_data)"
   ]
  },
  {
   "cell_type": "code",
   "execution_count": 7,
   "id": "8c4f0df8-ae58-4aaf-be1c-2aa4508f8157",
   "metadata": {},
   "outputs": [
    {
     "data": {
      "text/plain": [
       "10000"
      ]
     },
     "execution_count": 7,
     "metadata": {},
     "output_type": "execute_result"
    }
   ],
   "source": [
    "# now looking at the length of the train data\n",
    "\n",
    "len(train_data)"
   ]
  },
  {
   "cell_type": "code",
   "execution_count": 8,
   "id": "a2a163e9-fcaa-4a62-8e3a-5bb7f1849e8f",
   "metadata": {},
   "outputs": [
    {
     "data": {
      "text/plain": [
       "(['Mary',\n",
       "  'moved',\n",
       "  'to',\n",
       "  'the',\n",
       "  'bathroom',\n",
       "  '.',\n",
       "  'Sandra',\n",
       "  'journeyed',\n",
       "  'to',\n",
       "  'the',\n",
       "  'bedroom',\n",
       "  '.'],\n",
       " ['Is', 'Sandra', 'in', 'the', 'hallway', '?'],\n",
       " 'no')"
      ]
     },
     "execution_count": 8,
     "metadata": {},
     "output_type": "execute_result"
    }
   ],
   "source": [
    "# taking a look at the first tuple in the training data\n",
    "\n",
    "train_data[0]"
   ]
  },
  {
   "cell_type": "code",
   "execution_count": 9,
   "id": "11c23e91-582c-455b-9c47-59b9fd8fb2f0",
   "metadata": {},
   "outputs": [
    {
     "data": {
      "text/plain": [
       "'Mary moved to the bathroom . Sandra journeyed to the bedroom .'"
      ]
     },
     "execution_count": 9,
     "metadata": {},
     "output_type": "execute_result"
    }
   ],
   "source": [
    "# concatenating the first tuple into a sentence\n",
    "\n",
    "' '.join(train_data[0][0])"
   ]
  },
  {
   "cell_type": "code",
   "execution_count": 10,
   "id": "e07b4c75-392a-4abb-96f6-19bd56705ab7",
   "metadata": {},
   "outputs": [
    {
     "data": {
      "text/plain": [
       "'Is Sandra in the hallway ?'"
      ]
     },
     "execution_count": 10,
     "metadata": {},
     "output_type": "execute_result"
    }
   ],
   "source": [
    "# concatenating the question in the first tuple\n",
    "\n",
    "' '.join(train_data[0][1])"
   ]
  },
  {
   "cell_type": "code",
   "execution_count": 11,
   "id": "b3bccfa5-5b22-4df7-ba79-9523b8b069e9",
   "metadata": {},
   "outputs": [
    {
     "data": {
      "text/plain": [
       "'no'"
      ]
     },
     "execution_count": 11,
     "metadata": {},
     "output_type": "execute_result"
    }
   ],
   "source": [
    "# printing out the answer in the first tuple\n",
    "\n",
    "train_data[0][2]"
   ]
  },
  {
   "cell_type": "code",
   "execution_count": 12,
   "id": "de16e402-9f14-4c4d-a2cd-c5db08362715",
   "metadata": {},
   "outputs": [],
   "source": [
    "# create a set that holds the vocab words\n",
    "# stores unique values\n",
    "\n",
    "vocab = set()"
   ]
  },
  {
   "cell_type": "code",
   "execution_count": 13,
   "id": "819f4ff1-0136-499d-9dc1-8be7ddca0e2f",
   "metadata": {},
   "outputs": [],
   "source": [
    "# creating a new variable that contrains both datasets and is a big list\n",
    "\n",
    "all_data = test_data + train_data"
   ]
  },
  {
   "cell_type": "code",
   "execution_count": 14,
   "id": "7ac0270f-6cdd-4de6-9cb4-0be2e4fa1bf7",
   "metadata": {},
   "outputs": [],
   "source": [
    "# creating a for loop to add all distinct words for the story, the question and the answer\n",
    "\n",
    "for story, question , answer in all_data:\n",
    "    vocab = vocab.union(set(story)) # union will look for all distinct values between the two sets / continuously adding new distinct words while keeping current list in consideration\n",
    "    vocab = vocab.union(set(question))  "
   ]
  },
  {
   "cell_type": "code",
   "execution_count": 15,
   "id": "01890c29-cbba-4cb1-b6fd-8888adb32644",
   "metadata": {},
   "outputs": [],
   "source": [
    "# adding yes and no to the vocabulary\n",
    "\n",
    "vocab.add('no')\n",
    "vocab.add('yes')"
   ]
  },
  {
   "cell_type": "code",
   "execution_count": 16,
   "id": "5444cbaf-4636-41d5-a9c9-4c30316bcef5",
   "metadata": {},
   "outputs": [
    {
     "data": {
      "text/plain": [
       "{'.',\n",
       " '?',\n",
       " 'Daniel',\n",
       " 'Is',\n",
       " 'John',\n",
       " 'Mary',\n",
       " 'Sandra',\n",
       " 'apple',\n",
       " 'back',\n",
       " 'bathroom',\n",
       " 'bedroom',\n",
       " 'discarded',\n",
       " 'down',\n",
       " 'dropped',\n",
       " 'football',\n",
       " 'garden',\n",
       " 'got',\n",
       " 'grabbed',\n",
       " 'hallway',\n",
       " 'in',\n",
       " 'journeyed',\n",
       " 'kitchen',\n",
       " 'left',\n",
       " 'milk',\n",
       " 'moved',\n",
       " 'no',\n",
       " 'office',\n",
       " 'picked',\n",
       " 'put',\n",
       " 'the',\n",
       " 'there',\n",
       " 'to',\n",
       " 'took',\n",
       " 'travelled',\n",
       " 'up',\n",
       " 'went',\n",
       " 'yes'}"
      ]
     },
     "execution_count": 16,
     "metadata": {},
     "output_type": "execute_result"
    }
   ],
   "source": [
    "# looking at the set of all possible vocab words\n",
    "\n",
    "vocab"
   ]
  },
  {
   "cell_type": "code",
   "execution_count": 17,
   "id": "0cbb662d-8dd5-4e06-80ae-e208c9266301",
   "metadata": {},
   "outputs": [],
   "source": [
    "# need to add a plus one when capturing the length\n",
    "# since we need use keras for padding the sequences, adding a 0 is a placeholder for\n",
    "\n",
    "vocab_len = len(vocab) + 1"
   ]
  },
  {
   "cell_type": "markdown",
   "id": "43f88f72-843b-4b42-8425-70fd160cedc9",
   "metadata": {},
   "source": [
    "## Further Exploration will be needed here\n",
    "\n",
    "### Why?\n",
    "\n",
    "+ How long in terms of characters is the longest story?\n",
    "+ How long is the longest question?\n",
    "+ The way to find this information out is by creating a variable that loops through all of the stories / questions and return the one with the highest character count "
   ]
  },
  {
   "cell_type": "code",
   "execution_count": 18,
   "id": "fa31c448-0c65-4ab4-9b3f-ec393ee14257",
   "metadata": {},
   "outputs": [],
   "source": [
    "# start with story, writing a for loop that will return the highest number of characters in a story\n",
    "\n",
    "max_story_len = max([len(data[0]) for data in all_data])"
   ]
  },
  {
   "cell_type": "code",
   "execution_count": 19,
   "id": "59d950ca-0b71-48ec-89f6-fe8bd64cb62c",
   "metadata": {},
   "outputs": [
    {
     "data": {
      "text/plain": [
       "156"
      ]
     },
     "execution_count": 19,
     "metadata": {},
     "output_type": "execute_result"
    }
   ],
   "source": [
    "# printing out the number for max story length\n",
    "\n",
    "max_story_len"
   ]
  },
  {
   "cell_type": "code",
   "execution_count": 20,
   "id": "ba94c324-334a-459b-8a1d-252aa9a93435",
   "metadata": {},
   "outputs": [],
   "source": [
    "# start with story, writing a for loop that will return the highest number of characters in a question?\n",
    "\n",
    "max_question_len = max([len(data[1]) for data in all_data])"
   ]
  },
  {
   "cell_type": "code",
   "execution_count": 21,
   "id": "15d89a50-af15-4907-8622-88b7d436e0ac",
   "metadata": {},
   "outputs": [
    {
     "data": {
      "text/plain": [
       "6"
      ]
     },
     "execution_count": 21,
     "metadata": {},
     "output_type": "execute_result"
    }
   ],
   "source": [
    "# printing out the number for max question length\n",
    "\n",
    "max_question_len"
   ]
  },
  {
   "cell_type": "code",
   "execution_count": 23,
   "id": "1e22b690-7935-4fe1-b2a8-522e17447bb7",
   "metadata": {},
   "outputs": [],
   "source": [
    "# vocab"
   ]
  },
  {
   "cell_type": "code",
   "execution_count": 24,
   "id": "e14f949e-47b3-4216-a38b-b02b8606adf4",
   "metadata": {},
   "outputs": [],
   "source": [
    "# Reserve 0 for pad_sequences\n",
    "\n",
    "vocab_size = len(vocab) + 1"
   ]
  },
  {
   "cell_type": "code",
   "execution_count": 25,
   "id": "4fef75b9-795c-4777-81eb-74371bb90591",
   "metadata": {},
   "outputs": [],
   "source": [
    "# importing libraries\n",
    "\n",
    "from keras.preprocessing.sequence import pad_sequences  # padding sequences\n",
    "from keras.preprocessing.text import Tokenizer"
   ]
  },
  {
   "cell_type": "code",
   "execution_count": 26,
   "id": "328ddc85-9cf6-4133-aa1d-1be729ece4d0",
   "metadata": {},
   "outputs": [],
   "source": [
    "# integer encode sequences of words\n",
    "\n",
    "tokenizer = Tokenizer(filters=[]) # it is an empty list because we do not want any filters\n",
    "tokenizer.fit_on_texts(vocab) # fitting the tokenizer to the vocabulary"
   ]
  },
  {
   "cell_type": "code",
   "execution_count": 27,
   "id": "a25e49a9-553d-4c75-a7d6-fd5d2648ac56",
   "metadata": {},
   "outputs": [
    {
     "data": {
      "text/plain": [
       "{'journeyed': 1,\n",
       " 'sandra': 2,\n",
       " 'in': 3,\n",
       " 'grabbed': 4,\n",
       " 'to': 5,\n",
       " 'back': 6,\n",
       " 'no': 7,\n",
       " 'went': 8,\n",
       " 'office': 9,\n",
       " 'picked': 10,\n",
       " 'moved': 11,\n",
       " 'football': 12,\n",
       " 'hallway': 13,\n",
       " 'bathroom': 14,\n",
       " 'left': 15,\n",
       " 'up': 16,\n",
       " 'is': 17,\n",
       " 'apple': 18,\n",
       " 'down': 19,\n",
       " 'dropped': 20,\n",
       " 'there': 21,\n",
       " 'put': 22,\n",
       " 'got': 23,\n",
       " 'mary': 24,\n",
       " 'discarded': 25,\n",
       " 'yes': 26,\n",
       " '.': 27,\n",
       " 'travelled': 28,\n",
       " 'the': 29,\n",
       " '?': 30,\n",
       " 'garden': 31,\n",
       " 'john': 32,\n",
       " 'bedroom': 33,\n",
       " 'milk': 34,\n",
       " 'daniel': 35,\n",
       " 'took': 36,\n",
       " 'kitchen': 37}"
      ]
     },
     "execution_count": 27,
     "metadata": {},
     "output_type": "execute_result"
    }
   ],
   "source": [
    "# word_index is a dictionary that maps every word to a specific index number\n",
    "\n",
    "tokenizer.word_index"
   ]
  },
  {
   "cell_type": "code",
   "execution_count": 28,
   "id": "07e2f0f6-ecdf-4038-833e-2de21e760a32",
   "metadata": {},
   "outputs": [],
   "source": [
    "# creating three empty lists. one for the story, question and answers\n",
    "\n",
    "train_story_text = []\n",
    "train_question_text = []\n",
    "train_answers = []\n",
    "\n",
    "# writing a for loop that appends the story, and question into the empty lists\n",
    "\n",
    "for story,question,answer in train_data:\n",
    "    train_story_text.append(story)\n",
    "    train_question_text.append(question)"
   ]
  },
  {
   "cell_type": "code",
   "execution_count": 30,
   "id": "86405347-9e30-4639-a9f2-e3dd05c41645",
   "metadata": {},
   "outputs": [],
   "source": [
    "# example to look at will be train_story_text to see just the stories\n",
    "\n",
    "# train_story_text"
   ]
  },
  {
   "cell_type": "code",
   "execution_count": 31,
   "id": "78244811-fbc0-4571-b548-e5e9e9aa87ae",
   "metadata": {},
   "outputs": [],
   "source": [
    "# passing in the list of stories to convert to sequences\n",
    "# essentially it is changing the word to its word index, or numerical representation\n",
    "\n",
    "train_story_seq = tokenizer.texts_to_sequences(train_story_text)"
   ]
  },
  {
   "cell_type": "code",
   "execution_count": 32,
   "id": "3e4c8a89-9102-4338-b391-7cd933ebf5ba",
   "metadata": {},
   "outputs": [
    {
     "data": {
      "text/plain": [
       "10000"
      ]
     },
     "execution_count": 32,
     "metadata": {},
     "output_type": "execute_result"
    }
   ],
   "source": [
    "# total length of stories\n",
    "\n",
    "len(train_story_text)"
   ]
  },
  {
   "cell_type": "code",
   "execution_count": 33,
   "id": "b7cd398d-d19e-4190-a269-6792c38188be",
   "metadata": {},
   "outputs": [
    {
     "data": {
      "text/plain": [
       "10000"
      ]
     },
     "execution_count": 33,
     "metadata": {},
     "output_type": "execute_result"
    }
   ],
   "source": [
    "# total length of sequences \n",
    "# it needs and should be the same as above\n",
    "\n",
    "len(train_story_seq)"
   ]
  },
  {
   "cell_type": "code",
   "execution_count": 35,
   "id": "bdd2bf2c-2364-4d37-af8c-679aa4c0aca6",
   "metadata": {},
   "outputs": [],
   "source": [
    "# word_index = tokenizer.word_index"
   ]
  },
  {
   "cell_type": "code",
   "execution_count": 36,
   "id": "3e6ff7a2-f591-44c5-9b8c-218e06ecbe22",
   "metadata": {},
   "outputs": [],
   "source": [
    "# writing a function that can vectorize the stories\n",
    "\n",
    "def vectorize_stories(data, word_index=tokenizer.word_index, max_story_len=max_story_len,max_question_len=max_question_len):\n",
    "    '''\n",
    "    INPUT: \n",
    "    \n",
    "    data: consisting of Stories,Queries,and Answers\n",
    "    word_index: word index dictionary from tokenizer\n",
    "    max_story_len: the length of the longest story (used for pad_sequences function)\n",
    "    max_question_len: length of the longest question (used for pad_sequences function)\n",
    "\n",
    "\n",
    "    OUTPUT:\n",
    "    \n",
    "    Vectorizes the stories,questions, and answers into padded sequences. We first loop for every story, query , and\n",
    "    answer in the data. Then we convert the raw words to an word index value. Then we append each set to their appropriate\n",
    "    output list. Then once we have converted the words to numbers, we pad the sequences so they are all of equal length.\n",
    "    \n",
    "    Returns this in the form of a tuple (X,Xq,Y) (padded based on max lengths)\n",
    "    '''\n",
    "    \n",
    "    \n",
    "    # X = stories\n",
    "    X = []\n",
    "    # Xq = question\n",
    "    Xq = []\n",
    "    # Y = correct answer\n",
    "    Y = []\n",
    "    \n",
    "    \n",
    "    for story, query, answer in data:\n",
    "        \n",
    "        # grab the word index for every word in story\n",
    "        x = [word_index[word.lower()] for word in story]\n",
    "        \n",
    "        # grab the word index for every word in query\n",
    "        xq = [word_index[word.lower()] for word in query]\n",
    "        \n",
    "        # grab the Answers (either Yes/No so we don't need to use list comprehension here)\n",
    "        # index 0 is reserved so we're going to use + 1\n",
    "        \n",
    "        y = np.zeros(len(word_index) + 1)\n",
    "        \n",
    "        # now that y is all zeros and we know its just Yes/No , we can use numpy logic to create this assignment\n",
    "        \n",
    "        y[word_index[answer]] = 1\n",
    "        \n",
    "        # append each set of story,query, and answer to their respective holding lists\n",
    "        \n",
    "        X.append(x)\n",
    "        Xq.append(xq)\n",
    "        Y.append(y)\n",
    "        \n",
    "    # finally, pad the sequences based on their max length so the RNN can be trained on uniformly long sequences.\n",
    "        \n",
    "    # return tuple for unpacking\n",
    "    return (pad_sequences(X, maxlen=max_story_len),pad_sequences(Xq, maxlen=max_question_len), np.array(Y))"
   ]
  },
  {
   "cell_type": "code",
   "execution_count": 37,
   "id": "7136d430-99c9-4cd1-87ff-c38d204e9181",
   "metadata": {},
   "outputs": [],
   "source": [
    "# getting the story, question and answers from the training data to be vectorized using the vectorize stories \n",
    "\n",
    "inputs_train, queries_train, answers_train = vectorize_stories(train_data)"
   ]
  },
  {
   "cell_type": "code",
   "execution_count": 38,
   "id": "839f7ed4-a7c6-413f-bb67-c615d2445458",
   "metadata": {},
   "outputs": [],
   "source": [
    "# getting the story, question and answers from the test data to be vectorized using the vectorize stories \n",
    "\n",
    "inputs_test, queries_test, answers_test = vectorize_stories(test_data)"
   ]
  },
  {
   "cell_type": "code",
   "execution_count": 39,
   "id": "d248f94a-297b-4474-8aa2-f1b1a24f2897",
   "metadata": {},
   "outputs": [
    {
     "data": {
      "text/plain": [
       "array([[ 0,  0,  0, ..., 29, 33, 27],\n",
       "       [ 0,  0,  0, ..., 29, 31, 27],\n",
       "       [ 0,  0,  0, ..., 29, 31, 27],\n",
       "       ...,\n",
       "       [ 0,  0,  0, ..., 29, 18, 27],\n",
       "       [ 0,  0,  0, ..., 29, 31, 27],\n",
       "       [ 0,  0,  0, ..., 18, 21, 27]])"
      ]
     },
     "execution_count": 39,
     "metadata": {},
     "output_type": "execute_result"
    }
   ],
   "source": [
    "# looking at the variable and understanding that the stories are now an array of numbers after being vectorized\n",
    "\n",
    "inputs_test"
   ]
  },
  {
   "cell_type": "code",
   "execution_count": 40,
   "id": "f9f3fe79-ed7a-4352-a45c-6eb51ceb4f03",
   "metadata": {},
   "outputs": [
    {
     "data": {
      "text/plain": [
       "array([[17, 32,  3, 29, 37, 30],\n",
       "       [17, 32,  3, 29, 37, 30],\n",
       "       [17, 32,  3, 29, 31, 30],\n",
       "       ...,\n",
       "       [17, 24,  3, 29, 33, 30],\n",
       "       [17,  2,  3, 29, 31, 30],\n",
       "       [17, 24,  3, 29, 31, 30]])"
      ]
     },
     "execution_count": 40,
     "metadata": {},
     "output_type": "execute_result"
    }
   ],
   "source": [
    "# looking at the variable and understanding that the questions are now an array of numbers after being vectorized\n",
    "\n",
    "queries_test"
   ]
  },
  {
   "cell_type": "code",
   "execution_count": 41,
   "id": "47f41511-5ed3-4d8b-890a-018ed3282413",
   "metadata": {},
   "outputs": [
    {
     "data": {
      "text/plain": [
       "array([[0., 0., 0., ..., 0., 0., 0.],\n",
       "       [0., 0., 0., ..., 0., 0., 0.],\n",
       "       [0., 0., 0., ..., 0., 0., 0.],\n",
       "       ...,\n",
       "       [0., 0., 0., ..., 0., 0., 0.],\n",
       "       [0., 0., 0., ..., 0., 0., 0.],\n",
       "       [0., 0., 0., ..., 0., 0., 0.]])"
      ]
     },
     "execution_count": 41,
     "metadata": {},
     "output_type": "execute_result"
    }
   ],
   "source": [
    "# looking at the variable and understanding that the answers are now an array of numbers after being vectorized\n",
    "\n",
    "answers_test"
   ]
  },
  {
   "cell_type": "code",
   "execution_count": 42,
   "id": "6f8c9d8e-dbbb-4edf-985e-ad1c2b5db5a0",
   "metadata": {},
   "outputs": [
    {
     "data": {
      "text/plain": [
       "array([  0.,   0.,   0.,   0.,   0.,   0.,   0., 503.,   0.,   0.,   0.,\n",
       "         0.,   0.,   0.,   0.,   0.,   0.,   0.,   0.,   0.,   0.,   0.,\n",
       "         0.,   0.,   0.,   0., 497.,   0.,   0.,   0.,   0.,   0.,   0.,\n",
       "         0.,   0.,   0.,   0.,   0.])"
      ]
     },
     "execution_count": 42,
     "metadata": {},
     "output_type": "execute_result"
    }
   ],
   "source": [
    "# adding total answers in test data\n",
    "\n",
    "sum(answers_test)"
   ]
  },
  {
   "cell_type": "code",
   "execution_count": 43,
   "id": "8305333c-d0c3-4c59-8df4-d1d068dd410e",
   "metadata": {},
   "outputs": [
    {
     "data": {
      "text/plain": [
       "26"
      ]
     },
     "execution_count": 43,
     "metadata": {},
     "output_type": "execute_result"
    }
   ],
   "source": [
    "# looking at the word index for yes in the array above and it behind no\n",
    "# by the positioning of 497, there are 497 questions that have the answer yes\n",
    "\n",
    "tokenizer.word_index['yes']"
   ]
  },
  {
   "cell_type": "code",
   "execution_count": 44,
   "id": "e070d513-b1c3-4d55-9940-1b0d92e94812",
   "metadata": {},
   "outputs": [
    {
     "data": {
      "text/plain": [
       "7"
      ]
     },
     "execution_count": 44,
     "metadata": {},
     "output_type": "execute_result"
    }
   ],
   "source": [
    "# looking at the word index for no\n",
    "# there 503 questions that have the answer no\n",
    "\n",
    "tokenizer.word_index['no']"
   ]
  },
  {
   "cell_type": "markdown",
   "id": "88830341-71a9-428f-869c-82623d9af93a",
   "metadata": {},
   "source": [
    "# Creating the Model\n",
    "\n",
    "## Build the Neural Network\n",
    "\n",
    "+ Input Encoder M\n",
    "+ Input Encoder C\n",
    "+ Question Encoder\n",
    "\n",
    "### Complete the Network"
   ]
  },
  {
   "cell_type": "code",
   "execution_count": 45,
   "id": "85462481-30d5-4904-bd59-13876378b5c5",
   "metadata": {},
   "outputs": [],
   "source": [
    "# importing keras models and layers for neural network\n",
    "\n",
    "from keras.models import Sequential, Model\n",
    "from keras.layers.embeddings import Embedding\n",
    "from keras.layers import Input, Activation, Dense, Permute, Dropout\n",
    "from keras.layers import add, dot, concatenate\n",
    "from keras.layers import LSTM"
   ]
  },
  {
   "cell_type": "markdown",
   "id": "31995c65-cb5c-4651-b8c5-9fd7d2ff698d",
   "metadata": {},
   "source": [
    "### Placeholders for Inputs\n",
    "\n",
    "Recall we technically have two inputs, stories and questions. So we need to use placeholders. `Input()` is used to instantiate a Keras tensor."
   ]
  },
  {
   "cell_type": "code",
   "execution_count": 46,
   "id": "84de22b5-c94b-4d2d-af41-69a562ff11c8",
   "metadata": {},
   "outputs": [],
   "source": [
    "# placeholder shape = (max_story_len, batch_size)\n",
    "\n",
    "input_sequence = Input((max_story_len,))\n",
    "question = Input((max_question_len,))"
   ]
  },
  {
   "cell_type": "code",
   "execution_count": 47,
   "id": "879c63b7-501b-4261-886b-7952825e8339",
   "metadata": {},
   "outputs": [],
   "source": [
    "vocab_size = len(vocab) + 1"
   ]
  },
  {
   "cell_type": "markdown",
   "id": "26e10ab0-193d-4585-9917-fdb924bc62e1",
   "metadata": {},
   "source": [
    "### Building the Networks\n",
    "\n",
    "To understand why we chose this setup, make sure to read the paper we are using:\n",
    "\n",
    "* Sainbayar Sukhbaatar, Arthur Szlam, Jason Weston, Rob Fergus,\n",
    "  \"End-To-End Memory Networks\",\n",
    "  http://arxiv.org/abs/1503.08895"
   ]
  },
  {
   "cell_type": "markdown",
   "id": "d24fcd82-8795-4af8-bb0c-f35eab9a6eb9",
   "metadata": {},
   "source": [
    "## Encoders\n",
    "\n",
    "### Input Encoder m"
   ]
  },
  {
   "cell_type": "code",
   "execution_count": 48,
   "id": "01c46900-7c39-49e2-94f2-2a63a775bca4",
   "metadata": {},
   "outputs": [],
   "source": [
    "# Input gets embedded to a sequence of vectors\n",
    "\n",
    "input_encoder_m = Sequential()\n",
    "input_encoder_m.add(Embedding(input_dim=vocab_size,output_dim=64))\n",
    "input_encoder_m.add(Dropout(0.3))\n",
    "\n",
    "# This encoder will output:\n",
    "# (samples, story_maxlen, embedding_dim)"
   ]
  },
  {
   "cell_type": "markdown",
   "id": "70c81d33-0450-468b-b66c-facaa3a741f7",
   "metadata": {},
   "source": [
    "### Input Encoder c"
   ]
  },
  {
   "cell_type": "code",
   "execution_count": 49,
   "id": "4d49c534-5b6d-42de-a43e-4695049d1158",
   "metadata": {},
   "outputs": [],
   "source": [
    "# embed the input into a sequence of vectors of size query_maxlen\n",
    "\n",
    "input_encoder_c = Sequential()\n",
    "input_encoder_c.add(Embedding(input_dim=vocab_size,output_dim=max_question_len))\n",
    "input_encoder_c.add(Dropout(0.3))\n",
    "\n",
    "# output: (samples, story_maxlen, query_maxlen)"
   ]
  },
  {
   "cell_type": "markdown",
   "id": "ef5929bd-f736-449b-b74d-52a6fb9b85d2",
   "metadata": {},
   "source": [
    "## Question Encoder"
   ]
  },
  {
   "cell_type": "code",
   "execution_count": 50,
   "id": "bfc6fae6-f70d-42a0-8cbc-474a0a020a04",
   "metadata": {},
   "outputs": [],
   "source": [
    "# embed the question into a sequence of vectors\n",
    "\n",
    "question_encoder = Sequential()\n",
    "question_encoder.add(Embedding(input_dim=vocab_size,\n",
    "                               output_dim=64,\n",
    "                               input_length=max_question_len))\n",
    "question_encoder.add(Dropout(0.3))\n",
    "\n",
    "# output: (samples, query_maxlen, embedding_dim)"
   ]
  },
  {
   "cell_type": "markdown",
   "id": "288530ac-e145-40d7-90f2-875ab4558bc3",
   "metadata": {},
   "source": [
    "## Encode the Sequences"
   ]
  },
  {
   "cell_type": "code",
   "execution_count": 51,
   "id": "c8bcc616-f6fd-4568-b1b6-894a26446287",
   "metadata": {},
   "outputs": [],
   "source": [
    "# encode input sequence and questions (which are indices)\n",
    "# to sequences of dense vectors\n",
    "\n",
    "input_encoded_m = input_encoder_m(input_sequence) # result of passing through the encoder\n",
    "input_encoded_c = input_encoder_c(input_sequence) # result of passing through the encoder\n",
    "question_encoded = question_encoder(question)"
   ]
  },
  {
   "cell_type": "markdown",
   "id": "d42b82fa-46d9-4855-9d23-e1bed125a2e0",
   "metadata": {},
   "source": [
    "##### Use dot product to compute the match between first input vector seq and the query"
   ]
  },
  {
   "cell_type": "code",
   "execution_count": 52,
   "id": "93c727bb-30a5-457a-aa0d-2b2721fd10f9",
   "metadata": {},
   "outputs": [],
   "source": [
    "# shape: `(samples, story_maxlen, query_maxlen)`\n",
    "# just like in the paper, using softmax for activation\n",
    "\n",
    "match = dot([input_encoded_m, question_encoded], axes=(2, 2))\n",
    "match = Activation('softmax')(match)"
   ]
  },
  {
   "cell_type": "markdown",
   "id": "17371305-2dc2-4e6a-a893-fd48241d761e",
   "metadata": {},
   "source": [
    "#### Add this match matrix with the second input vector sequence"
   ]
  },
  {
   "cell_type": "code",
   "execution_count": 53,
   "id": "052670a9-0873-4013-b9a8-3c737a224b78",
   "metadata": {},
   "outputs": [],
   "source": [
    "# add the match matrix with the second input vector sequence\n",
    "\n",
    "response = add([match, input_encoded_c])  # (samples, story_maxlen, query_maxlen)\n",
    "response = Permute((2, 1))(response)  # (samples, query_maxlen, story_maxlen)"
   ]
  },
  {
   "cell_type": "markdown",
   "id": "fd6a8b56-0795-4653-84ca-65f78bc0bb71",
   "metadata": {},
   "source": [
    "#### Concatenate"
   ]
  },
  {
   "cell_type": "code",
   "execution_count": 54,
   "id": "4ad1a97c-dad4-4b9d-b4cf-5e5d63b8b3f2",
   "metadata": {},
   "outputs": [],
   "source": [
    "# concatenate the match matrix with the question vector sequence\n",
    "\n",
    "answer = concatenate([response, question_encoded])"
   ]
  },
  {
   "cell_type": "code",
   "execution_count": 55,
   "id": "791906e1-f5b7-4292-95f4-41b83feb1f01",
   "metadata": {},
   "outputs": [
    {
     "data": {
      "text/plain": [
       "<KerasTensor: shape=(None, 6, 220) dtype=float32 (created by layer 'concatenate')>"
      ]
     },
     "execution_count": 55,
     "metadata": {},
     "output_type": "execute_result"
    }
   ],
   "source": [
    "# tensorflow tensor\n",
    "\n",
    "answer"
   ]
  },
  {
   "cell_type": "code",
   "execution_count": 56,
   "id": "b42fec81-2e5a-49ad-b4a3-212948aad96a",
   "metadata": {},
   "outputs": [],
   "source": [
    "# reduce with RNN (LSTM)\n",
    "\n",
    "answer = LSTM(32)(answer)  # (samples, 32)"
   ]
  },
  {
   "cell_type": "code",
   "execution_count": 57,
   "id": "b1552dea-8f85-477e-a618-af0ebe47c143",
   "metadata": {},
   "outputs": [],
   "source": [
    "# regularization with dropout\n",
    "\n",
    "answer = Dropout(0.5)(answer)\n",
    "answer = Dense(vocab_size)(answer)  # (samples, vocab_size) then pass in our answer"
   ]
  },
  {
   "cell_type": "code",
   "execution_count": 58,
   "id": "03cf8b88-933c-4d0d-a1b1-19edc17a0f75",
   "metadata": {},
   "outputs": [],
   "source": [
    "# we output a probability distribution over the vocabulary\n",
    "\n",
    "answer = Activation('softmax')(answer)\n",
    "\n",
    "# build the final model\n",
    "model = Model([input_sequence, question], answer)\n",
    "model.compile(optimizer='rmsprop', loss='categorical_crossentropy',\n",
    "              metrics=['accuracy'])"
   ]
  },
  {
   "cell_type": "code",
   "execution_count": 59,
   "id": "1c01d839-7fd3-4647-b229-32c3e4fb5b1a",
   "metadata": {},
   "outputs": [
    {
     "name": "stdout",
     "output_type": "stream",
     "text": [
      "Model: \"model\"\n",
      "__________________________________________________________________________________________________\n",
      " Layer (type)                   Output Shape         Param #     Connected to                     \n",
      "==================================================================================================\n",
      " input_1 (InputLayer)           [(None, 156)]        0           []                               \n",
      "                                                                                                  \n",
      " input_2 (InputLayer)           [(None, 6)]          0           []                               \n",
      "                                                                                                  \n",
      " sequential (Sequential)        (None, None, 64)     2432        ['input_1[0][0]']                \n",
      "                                                                                                  \n",
      " sequential_2 (Sequential)      (None, 6, 64)        2432        ['input_2[0][0]']                \n",
      "                                                                                                  \n",
      " dot (Dot)                      (None, 156, 6)       0           ['sequential[0][0]',             \n",
      "                                                                  'sequential_2[0][0]']           \n",
      "                                                                                                  \n",
      " activation (Activation)        (None, 156, 6)       0           ['dot[0][0]']                    \n",
      "                                                                                                  \n",
      " sequential_1 (Sequential)      (None, None, 6)      228         ['input_1[0][0]']                \n",
      "                                                                                                  \n",
      " add (Add)                      (None, 156, 6)       0           ['activation[0][0]',             \n",
      "                                                                  'sequential_1[0][0]']           \n",
      "                                                                                                  \n",
      " permute (Permute)              (None, 6, 156)       0           ['add[0][0]']                    \n",
      "                                                                                                  \n",
      " concatenate (Concatenate)      (None, 6, 220)       0           ['permute[0][0]',                \n",
      "                                                                  'sequential_2[0][0]']           \n",
      "                                                                                                  \n",
      " lstm (LSTM)                    (None, 32)           32384       ['concatenate[0][0]']            \n",
      "                                                                                                  \n",
      " dropout_3 (Dropout)            (None, 32)           0           ['lstm[0][0]']                   \n",
      "                                                                                                  \n",
      " dense (Dense)                  (None, 38)           1254        ['dropout_3[0][0]']              \n",
      "                                                                                                  \n",
      " activation_1 (Activation)      (None, 38)           0           ['dense[0][0]']                  \n",
      "                                                                                                  \n",
      "==================================================================================================\n",
      "Total params: 38,730\n",
      "Trainable params: 38,730\n",
      "Non-trainable params: 0\n",
      "__________________________________________________________________________________________________\n"
     ]
    }
   ],
   "source": [
    "# as it is demonstrated in the paper, the model is a bit complex\n",
    "\n",
    "model.summary()"
   ]
  },
  {
   "cell_type": "markdown",
   "id": "b0d1acec-f8c4-40d0-8cfd-7df679e2d517",
   "metadata": {},
   "source": [
    "## Fit/Train the Network\n",
    "\n",
    "+ Plot out Training History\n",
    "+ Evaluate on Test Set\n",
    "+ Create our own stories and question to test the bot"
   ]
  },
  {
   "cell_type": "code",
   "execution_count": 60,
   "id": "fdf64ffb-7ac0-47ff-aaea-a01db032b216",
   "metadata": {},
   "outputs": [
    {
     "name": "stdout",
     "output_type": "stream",
     "text": [
      "Epoch 1/200\n",
      "313/313 [==============================] - 4s 7ms/step - loss: 0.9123 - accuracy: 0.4985 - val_loss: 0.6954 - val_accuracy: 0.5030\n",
      "Epoch 2/200\n",
      "313/313 [==============================] - 2s 6ms/step - loss: 0.7072 - accuracy: 0.5026 - val_loss: 0.6936 - val_accuracy: 0.5030\n",
      "Epoch 3/200\n",
      "313/313 [==============================] - 2s 6ms/step - loss: 0.6977 - accuracy: 0.5044 - val_loss: 0.6938 - val_accuracy: 0.4970\n",
      "Epoch 4/200\n",
      "313/313 [==============================] - 2s 6ms/step - loss: 0.6958 - accuracy: 0.4985 - val_loss: 0.6933 - val_accuracy: 0.5030\n",
      "Epoch 5/200\n",
      "313/313 [==============================] - 2s 6ms/step - loss: 0.6949 - accuracy: 0.5001 - val_loss: 0.6938 - val_accuracy: 0.5030\n",
      "Epoch 6/200\n",
      "313/313 [==============================] - 2s 6ms/step - loss: 0.6946 - accuracy: 0.5009 - val_loss: 0.6934 - val_accuracy: 0.4610\n",
      "Epoch 7/200\n",
      "313/313 [==============================] - 2s 6ms/step - loss: 0.6937 - accuracy: 0.5079 - val_loss: 0.6944 - val_accuracy: 0.5050\n",
      "Epoch 8/200\n",
      "313/313 [==============================] - 2s 6ms/step - loss: 0.6940 - accuracy: 0.5037 - val_loss: 0.6947 - val_accuracy: 0.4910\n",
      "Epoch 9/200\n",
      "313/313 [==============================] - 2s 6ms/step - loss: 0.6926 - accuracy: 0.5179 - val_loss: 0.6924 - val_accuracy: 0.4770\n",
      "Epoch 10/200\n",
      "313/313 [==============================] - 2s 6ms/step - loss: 0.6869 - accuracy: 0.5449 - val_loss: 0.6823 - val_accuracy: 0.5370\n",
      "Epoch 11/200\n",
      "313/313 [==============================] - 2s 6ms/step - loss: 0.6630 - accuracy: 0.5997 - val_loss: 0.6395 - val_accuracy: 0.6560\n",
      "Epoch 12/200\n",
      "313/313 [==============================] - 2s 6ms/step - loss: 0.6380 - accuracy: 0.6397 - val_loss: 0.6336 - val_accuracy: 0.6560\n",
      "Epoch 13/200\n",
      "313/313 [==============================] - 2s 6ms/step - loss: 0.6311 - accuracy: 0.6489 - val_loss: 0.6288 - val_accuracy: 0.6570\n",
      "Epoch 14/200\n",
      "313/313 [==============================] - 2s 6ms/step - loss: 0.6216 - accuracy: 0.6598 - val_loss: 0.6093 - val_accuracy: 0.6770\n",
      "Epoch 15/200\n",
      "313/313 [==============================] - 2s 6ms/step - loss: 0.6107 - accuracy: 0.6694 - val_loss: 0.6123 - val_accuracy: 0.6580\n",
      "Epoch 16/200\n",
      "313/313 [==============================] - 2s 6ms/step - loss: 0.5905 - accuracy: 0.6891 - val_loss: 0.5615 - val_accuracy: 0.7120\n",
      "Epoch 17/200\n",
      "313/313 [==============================] - 2s 6ms/step - loss: 0.5692 - accuracy: 0.7054 - val_loss: 0.5419 - val_accuracy: 0.7210\n",
      "Epoch 18/200\n",
      "313/313 [==============================] - 2s 6ms/step - loss: 0.5550 - accuracy: 0.7200 - val_loss: 0.5224 - val_accuracy: 0.7460\n",
      "Epoch 19/200\n",
      "313/313 [==============================] - 2s 6ms/step - loss: 0.5341 - accuracy: 0.7392 - val_loss: 0.5092 - val_accuracy: 0.7450\n",
      "Epoch 20/200\n",
      "313/313 [==============================] - 2s 6ms/step - loss: 0.5044 - accuracy: 0.7583 - val_loss: 0.4708 - val_accuracy: 0.7840\n",
      "Epoch 21/200\n",
      "313/313 [==============================] - 2s 6ms/step - loss: 0.4730 - accuracy: 0.7881 - val_loss: 0.4560 - val_accuracy: 0.7880\n",
      "Epoch 22/200\n",
      "313/313 [==============================] - 2s 6ms/step - loss: 0.4488 - accuracy: 0.7962 - val_loss: 0.4232 - val_accuracy: 0.8140\n",
      "Epoch 23/200\n",
      "313/313 [==============================] - 2s 6ms/step - loss: 0.4197 - accuracy: 0.8174 - val_loss: 0.3950 - val_accuracy: 0.8100\n",
      "Epoch 24/200\n",
      "313/313 [==============================] - 2s 6ms/step - loss: 0.3894 - accuracy: 0.8288 - val_loss: 0.3784 - val_accuracy: 0.8210\n",
      "Epoch 25/200\n",
      "313/313 [==============================] - 2s 6ms/step - loss: 0.3696 - accuracy: 0.8399 - val_loss: 0.3918 - val_accuracy: 0.8130\n",
      "Epoch 26/200\n",
      "313/313 [==============================] - 2s 6ms/step - loss: 0.3577 - accuracy: 0.8469 - val_loss: 0.3701 - val_accuracy: 0.8250\n",
      "Epoch 27/200\n",
      "313/313 [==============================] - 2s 6ms/step - loss: 0.3521 - accuracy: 0.8439 - val_loss: 0.3570 - val_accuracy: 0.8230\n",
      "Epoch 28/200\n",
      "313/313 [==============================] - 2s 6ms/step - loss: 0.3384 - accuracy: 0.8535 - val_loss: 0.3941 - val_accuracy: 0.8180\n",
      "Epoch 29/200\n",
      "313/313 [==============================] - 2s 6ms/step - loss: 0.3383 - accuracy: 0.8559 - val_loss: 0.3456 - val_accuracy: 0.8370\n",
      "Epoch 30/200\n",
      "313/313 [==============================] - 2s 6ms/step - loss: 0.3330 - accuracy: 0.8537 - val_loss: 0.3480 - val_accuracy: 0.8300\n",
      "Epoch 31/200\n",
      "313/313 [==============================] - 2s 6ms/step - loss: 0.3263 - accuracy: 0.8572 - val_loss: 0.3415 - val_accuracy: 0.8360\n",
      "Epoch 32/200\n",
      "313/313 [==============================] - 2s 6ms/step - loss: 0.3249 - accuracy: 0.8566 - val_loss: 0.3471 - val_accuracy: 0.8360\n",
      "Epoch 33/200\n",
      "313/313 [==============================] - 2s 6ms/step - loss: 0.3228 - accuracy: 0.8578 - val_loss: 0.3444 - val_accuracy: 0.8330\n",
      "Epoch 34/200\n",
      "313/313 [==============================] - 2s 6ms/step - loss: 0.3150 - accuracy: 0.8610 - val_loss: 0.3495 - val_accuracy: 0.8270\n",
      "Epoch 35/200\n",
      "313/313 [==============================] - 2s 6ms/step - loss: 0.3166 - accuracy: 0.8626 - val_loss: 0.3446 - val_accuracy: 0.8340\n",
      "Epoch 36/200\n",
      "313/313 [==============================] - 2s 6ms/step - loss: 0.3096 - accuracy: 0.8604 - val_loss: 0.3712 - val_accuracy: 0.8280\n",
      "Epoch 37/200\n",
      "313/313 [==============================] - 2s 6ms/step - loss: 0.3116 - accuracy: 0.8623 - val_loss: 0.3423 - val_accuracy: 0.8320\n",
      "Epoch 38/200\n",
      "313/313 [==============================] - 2s 6ms/step - loss: 0.3114 - accuracy: 0.8622 - val_loss: 0.3385 - val_accuracy: 0.8380\n",
      "Epoch 39/200\n",
      "313/313 [==============================] - 2s 6ms/step - loss: 0.3067 - accuracy: 0.8640 - val_loss: 0.3356 - val_accuracy: 0.8340\n",
      "Epoch 40/200\n",
      "313/313 [==============================] - 2s 6ms/step - loss: 0.3066 - accuracy: 0.8629 - val_loss: 0.3526 - val_accuracy: 0.8360\n",
      "Epoch 41/200\n",
      "313/313 [==============================] - 2s 6ms/step - loss: 0.3047 - accuracy: 0.8658 - val_loss: 0.3554 - val_accuracy: 0.8350\n",
      "Epoch 42/200\n",
      "313/313 [==============================] - 2s 6ms/step - loss: 0.3035 - accuracy: 0.8660 - val_loss: 0.3366 - val_accuracy: 0.8390\n",
      "Epoch 43/200\n",
      "313/313 [==============================] - 2s 6ms/step - loss: 0.3042 - accuracy: 0.8649 - val_loss: 0.3406 - val_accuracy: 0.8340\n",
      "Epoch 44/200\n",
      "313/313 [==============================] - 2s 6ms/step - loss: 0.3020 - accuracy: 0.8665 - val_loss: 0.3541 - val_accuracy: 0.8320\n",
      "Epoch 45/200\n",
      "313/313 [==============================] - 2s 6ms/step - loss: 0.2979 - accuracy: 0.8711 - val_loss: 0.3514 - val_accuracy: 0.8360\n",
      "Epoch 46/200\n",
      "313/313 [==============================] - 2s 6ms/step - loss: 0.3029 - accuracy: 0.8661 - val_loss: 0.3403 - val_accuracy: 0.8380\n",
      "Epoch 47/200\n",
      "313/313 [==============================] - 2s 6ms/step - loss: 0.2976 - accuracy: 0.8704 - val_loss: 0.3389 - val_accuracy: 0.8390\n",
      "Epoch 48/200\n",
      "313/313 [==============================] - 2s 6ms/step - loss: 0.2978 - accuracy: 0.8677 - val_loss: 0.3404 - val_accuracy: 0.8320\n",
      "Epoch 49/200\n",
      "313/313 [==============================] - 2s 6ms/step - loss: 0.2981 - accuracy: 0.8689 - val_loss: 0.3570 - val_accuracy: 0.8390\n",
      "Epoch 50/200\n",
      "313/313 [==============================] - 2s 6ms/step - loss: 0.2930 - accuracy: 0.8695 - val_loss: 0.3456 - val_accuracy: 0.8330\n",
      "Epoch 51/200\n",
      "313/313 [==============================] - 2s 6ms/step - loss: 0.2944 - accuracy: 0.8700 - val_loss: 0.3731 - val_accuracy: 0.8290\n",
      "Epoch 52/200\n",
      "313/313 [==============================] - 2s 6ms/step - loss: 0.2940 - accuracy: 0.8708 - val_loss: 0.3564 - val_accuracy: 0.8310\n",
      "Epoch 53/200\n",
      "313/313 [==============================] - 2s 6ms/step - loss: 0.2930 - accuracy: 0.8741 - val_loss: 0.3652 - val_accuracy: 0.8350\n",
      "Epoch 54/200\n",
      "313/313 [==============================] - 2s 6ms/step - loss: 0.2921 - accuracy: 0.8728 - val_loss: 0.3298 - val_accuracy: 0.8410\n",
      "Epoch 55/200\n",
      "313/313 [==============================] - 2s 6ms/step - loss: 0.2946 - accuracy: 0.8720 - val_loss: 0.3599 - val_accuracy: 0.8310\n",
      "Epoch 56/200\n",
      "313/313 [==============================] - 2s 6ms/step - loss: 0.2905 - accuracy: 0.8747 - val_loss: 0.3485 - val_accuracy: 0.8360\n",
      "Epoch 57/200\n",
      "313/313 [==============================] - 2s 6ms/step - loss: 0.2872 - accuracy: 0.8678 - val_loss: 0.3391 - val_accuracy: 0.8320\n",
      "Epoch 58/200\n",
      "313/313 [==============================] - 2s 6ms/step - loss: 0.2924 - accuracy: 0.8726 - val_loss: 0.3423 - val_accuracy: 0.8360\n",
      "Epoch 59/200\n",
      "313/313 [==============================] - 2s 6ms/step - loss: 0.2868 - accuracy: 0.8706 - val_loss: 0.3564 - val_accuracy: 0.8420\n",
      "Epoch 60/200\n",
      "313/313 [==============================] - 2s 6ms/step - loss: 0.2896 - accuracy: 0.8740 - val_loss: 0.3536 - val_accuracy: 0.8300\n",
      "Epoch 61/200\n",
      "313/313 [==============================] - 2s 6ms/step - loss: 0.2868 - accuracy: 0.8734 - val_loss: 0.3385 - val_accuracy: 0.8260\n",
      "Epoch 62/200\n",
      "313/313 [==============================] - 2s 6ms/step - loss: 0.2888 - accuracy: 0.8748 - val_loss: 0.3388 - val_accuracy: 0.8380\n",
      "Epoch 63/200\n",
      "313/313 [==============================] - 2s 6ms/step - loss: 0.2836 - accuracy: 0.8756 - val_loss: 0.3494 - val_accuracy: 0.8360\n",
      "Epoch 64/200\n",
      "313/313 [==============================] - 2s 6ms/step - loss: 0.2839 - accuracy: 0.8741 - val_loss: 0.3392 - val_accuracy: 0.8310\n",
      "Epoch 65/200\n",
      "313/313 [==============================] - 2s 6ms/step - loss: 0.2802 - accuracy: 0.8766 - val_loss: 0.3518 - val_accuracy: 0.8350\n",
      "Epoch 66/200\n",
      "313/313 [==============================] - 2s 6ms/step - loss: 0.2835 - accuracy: 0.8754 - val_loss: 0.3571 - val_accuracy: 0.8360\n",
      "Epoch 67/200\n",
      "313/313 [==============================] - 2s 6ms/step - loss: 0.2844 - accuracy: 0.8758 - val_loss: 0.3570 - val_accuracy: 0.8280\n",
      "Epoch 68/200\n",
      "313/313 [==============================] - 2s 6ms/step - loss: 0.2822 - accuracy: 0.8735 - val_loss: 0.3553 - val_accuracy: 0.8410\n",
      "Epoch 69/200\n",
      "313/313 [==============================] - 2s 6ms/step - loss: 0.2789 - accuracy: 0.8770 - val_loss: 0.3428 - val_accuracy: 0.8360\n",
      "Epoch 70/200\n",
      "313/313 [==============================] - 2s 6ms/step - loss: 0.2807 - accuracy: 0.8754 - val_loss: 0.3500 - val_accuracy: 0.8350\n",
      "Epoch 71/200\n",
      "313/313 [==============================] - 2s 6ms/step - loss: 0.2741 - accuracy: 0.8771 - val_loss: 0.3828 - val_accuracy: 0.8340\n",
      "Epoch 72/200\n",
      "313/313 [==============================] - 2s 6ms/step - loss: 0.2756 - accuracy: 0.8787 - val_loss: 0.3567 - val_accuracy: 0.8380\n",
      "Epoch 73/200\n",
      "313/313 [==============================] - 2s 6ms/step - loss: 0.2739 - accuracy: 0.8807 - val_loss: 0.3534 - val_accuracy: 0.8360\n",
      "Epoch 74/200\n",
      "313/313 [==============================] - 2s 6ms/step - loss: 0.2707 - accuracy: 0.8783 - val_loss: 0.3468 - val_accuracy: 0.8330\n",
      "Epoch 75/200\n",
      "313/313 [==============================] - 2s 6ms/step - loss: 0.2731 - accuracy: 0.8820 - val_loss: 0.3342 - val_accuracy: 0.8380\n",
      "Epoch 76/200\n",
      "313/313 [==============================] - 2s 6ms/step - loss: 0.2753 - accuracy: 0.8762 - val_loss: 0.3475 - val_accuracy: 0.8420\n",
      "Epoch 77/200\n",
      "313/313 [==============================] - 2s 6ms/step - loss: 0.2695 - accuracy: 0.8817 - val_loss: 0.3515 - val_accuracy: 0.8320\n",
      "Epoch 78/200\n",
      "313/313 [==============================] - 2s 6ms/step - loss: 0.2743 - accuracy: 0.8795 - val_loss: 0.3452 - val_accuracy: 0.8360\n",
      "Epoch 79/200\n",
      "313/313 [==============================] - 2s 6ms/step - loss: 0.2714 - accuracy: 0.8846 - val_loss: 0.3477 - val_accuracy: 0.8400\n",
      "Epoch 80/200\n",
      "313/313 [==============================] - 2s 6ms/step - loss: 0.2705 - accuracy: 0.8771 - val_loss: 0.3627 - val_accuracy: 0.8380\n",
      "Epoch 81/200\n",
      "313/313 [==============================] - 2s 6ms/step - loss: 0.2693 - accuracy: 0.8828 - val_loss: 0.3620 - val_accuracy: 0.8440\n",
      "Epoch 82/200\n",
      "313/313 [==============================] - 2s 6ms/step - loss: 0.2616 - accuracy: 0.8864 - val_loss: 0.3440 - val_accuracy: 0.8430\n",
      "Epoch 83/200\n",
      "313/313 [==============================] - 2s 6ms/step - loss: 0.2658 - accuracy: 0.8828 - val_loss: 0.3520 - val_accuracy: 0.8410\n",
      "Epoch 84/200\n",
      "313/313 [==============================] - 2s 6ms/step - loss: 0.2605 - accuracy: 0.8842 - val_loss: 0.3551 - val_accuracy: 0.8380\n",
      "Epoch 85/200\n",
      "313/313 [==============================] - 2s 6ms/step - loss: 0.2584 - accuracy: 0.8881 - val_loss: 0.3584 - val_accuracy: 0.8370\n",
      "Epoch 86/200\n",
      "313/313 [==============================] - 2s 6ms/step - loss: 0.2621 - accuracy: 0.8851 - val_loss: 0.3638 - val_accuracy: 0.8420\n",
      "Epoch 87/200\n",
      "313/313 [==============================] - 2s 6ms/step - loss: 0.2609 - accuracy: 0.8842 - val_loss: 0.3520 - val_accuracy: 0.8370\n",
      "Epoch 88/200\n",
      "313/313 [==============================] - 2s 6ms/step - loss: 0.2556 - accuracy: 0.8875 - val_loss: 0.3588 - val_accuracy: 0.8400\n",
      "Epoch 89/200\n",
      "313/313 [==============================] - 2s 6ms/step - loss: 0.2537 - accuracy: 0.8901 - val_loss: 0.3440 - val_accuracy: 0.8400\n",
      "Epoch 90/200\n",
      "313/313 [==============================] - 2s 6ms/step - loss: 0.2510 - accuracy: 0.8904 - val_loss: 0.3383 - val_accuracy: 0.8500\n",
      "Epoch 91/200\n",
      "313/313 [==============================] - 2s 6ms/step - loss: 0.2504 - accuracy: 0.8938 - val_loss: 0.3399 - val_accuracy: 0.8500\n",
      "Epoch 92/200\n",
      "313/313 [==============================] - 2s 6ms/step - loss: 0.2520 - accuracy: 0.8946 - val_loss: 0.3438 - val_accuracy: 0.8520\n",
      "Epoch 93/200\n",
      "313/313 [==============================] - 2s 6ms/step - loss: 0.2427 - accuracy: 0.8950 - val_loss: 0.3564 - val_accuracy: 0.8440\n",
      "Epoch 94/200\n",
      "313/313 [==============================] - 2s 6ms/step - loss: 0.2391 - accuracy: 0.8959 - val_loss: 0.3682 - val_accuracy: 0.8550\n",
      "Epoch 95/200\n",
      "313/313 [==============================] - 2s 6ms/step - loss: 0.2329 - accuracy: 0.9001 - val_loss: 0.3718 - val_accuracy: 0.8490\n",
      "Epoch 96/200\n",
      "313/313 [==============================] - 2s 6ms/step - loss: 0.2273 - accuracy: 0.9016 - val_loss: 0.3435 - val_accuracy: 0.8440\n",
      "Epoch 97/200\n",
      "313/313 [==============================] - 2s 6ms/step - loss: 0.2222 - accuracy: 0.9052 - val_loss: 0.3351 - val_accuracy: 0.8710\n",
      "Epoch 98/200\n",
      "313/313 [==============================] - 2s 6ms/step - loss: 0.2208 - accuracy: 0.9077 - val_loss: 0.3247 - val_accuracy: 0.8670\n",
      "Epoch 99/200\n",
      "313/313 [==============================] - 2s 6ms/step - loss: 0.2192 - accuracy: 0.9102 - val_loss: 0.3164 - val_accuracy: 0.8640\n",
      "Epoch 100/200\n",
      "313/313 [==============================] - 2s 6ms/step - loss: 0.2038 - accuracy: 0.9129 - val_loss: 0.3075 - val_accuracy: 0.8750\n",
      "Epoch 101/200\n",
      "313/313 [==============================] - 2s 6ms/step - loss: 0.1954 - accuracy: 0.9181 - val_loss: 0.2980 - val_accuracy: 0.8810\n",
      "Epoch 102/200\n",
      "313/313 [==============================] - 2s 6ms/step - loss: 0.1845 - accuracy: 0.9229 - val_loss: 0.2911 - val_accuracy: 0.8830\n",
      "Epoch 103/200\n",
      "313/313 [==============================] - 2s 6ms/step - loss: 0.1769 - accuracy: 0.9261 - val_loss: 0.2812 - val_accuracy: 0.8800\n",
      "Epoch 104/200\n",
      "313/313 [==============================] - 2s 6ms/step - loss: 0.1752 - accuracy: 0.9269 - val_loss: 0.2694 - val_accuracy: 0.8870\n",
      "Epoch 105/200\n",
      "313/313 [==============================] - 2s 6ms/step - loss: 0.1723 - accuracy: 0.9304 - val_loss: 0.2869 - val_accuracy: 0.8870\n",
      "Epoch 106/200\n",
      "313/313 [==============================] - 2s 6ms/step - loss: 0.1651 - accuracy: 0.9317 - val_loss: 0.2596 - val_accuracy: 0.8980\n",
      "Epoch 107/200\n",
      "313/313 [==============================] - 2s 6ms/step - loss: 0.1566 - accuracy: 0.9369 - val_loss: 0.2556 - val_accuracy: 0.8890\n",
      "Epoch 108/200\n",
      "313/313 [==============================] - 2s 6ms/step - loss: 0.1517 - accuracy: 0.9402 - val_loss: 0.2901 - val_accuracy: 0.8960\n",
      "Epoch 109/200\n",
      "313/313 [==============================] - 2s 6ms/step - loss: 0.1507 - accuracy: 0.9386 - val_loss: 0.3052 - val_accuracy: 0.9000\n",
      "Epoch 110/200\n",
      "313/313 [==============================] - 2s 6ms/step - loss: 0.1526 - accuracy: 0.9379 - val_loss: 0.3496 - val_accuracy: 0.8840\n",
      "Epoch 111/200\n",
      "313/313 [==============================] - 2s 6ms/step - loss: 0.1415 - accuracy: 0.9448 - val_loss: 0.2538 - val_accuracy: 0.8970\n",
      "Epoch 112/200\n",
      "313/313 [==============================] - 2s 6ms/step - loss: 0.1398 - accuracy: 0.9456 - val_loss: 0.2556 - val_accuracy: 0.8980\n",
      "Epoch 113/200\n",
      "313/313 [==============================] - 2s 6ms/step - loss: 0.1405 - accuracy: 0.9466 - val_loss: 0.2783 - val_accuracy: 0.9010\n",
      "Epoch 114/200\n",
      "313/313 [==============================] - 2s 6ms/step - loss: 0.1318 - accuracy: 0.9495 - val_loss: 0.2719 - val_accuracy: 0.9010\n",
      "Epoch 115/200\n",
      "313/313 [==============================] - 2s 6ms/step - loss: 0.1360 - accuracy: 0.9473 - val_loss: 0.2699 - val_accuracy: 0.9020\n",
      "Epoch 116/200\n",
      "313/313 [==============================] - 2s 6ms/step - loss: 0.1293 - accuracy: 0.9500 - val_loss: 0.2393 - val_accuracy: 0.8960\n",
      "Epoch 117/200\n",
      "313/313 [==============================] - 2s 6ms/step - loss: 0.1274 - accuracy: 0.9524 - val_loss: 0.2559 - val_accuracy: 0.9050\n",
      "Epoch 118/200\n",
      "313/313 [==============================] - 2s 6ms/step - loss: 0.1175 - accuracy: 0.9553 - val_loss: 0.3077 - val_accuracy: 0.9070\n",
      "Epoch 119/200\n",
      "313/313 [==============================] - 2s 6ms/step - loss: 0.1166 - accuracy: 0.9558 - val_loss: 0.2789 - val_accuracy: 0.9100\n",
      "Epoch 120/200\n",
      "313/313 [==============================] - 2s 6ms/step - loss: 0.1158 - accuracy: 0.9574 - val_loss: 0.2773 - val_accuracy: 0.9070\n",
      "Epoch 121/200\n",
      "313/313 [==============================] - 2s 6ms/step - loss: 0.1125 - accuracy: 0.9565 - val_loss: 0.2606 - val_accuracy: 0.9080\n",
      "Epoch 122/200\n",
      "313/313 [==============================] - 2s 6ms/step - loss: 0.1132 - accuracy: 0.9589 - val_loss: 0.2622 - val_accuracy: 0.9130\n",
      "Epoch 123/200\n",
      "313/313 [==============================] - 2s 6ms/step - loss: 0.1099 - accuracy: 0.9599 - val_loss: 0.2512 - val_accuracy: 0.9070\n",
      "Epoch 124/200\n",
      "313/313 [==============================] - 2s 6ms/step - loss: 0.1015 - accuracy: 0.9615 - val_loss: 0.2924 - val_accuracy: 0.9110\n",
      "Epoch 125/200\n",
      "313/313 [==============================] - 2s 6ms/step - loss: 0.1012 - accuracy: 0.9612 - val_loss: 0.2809 - val_accuracy: 0.9120\n",
      "Epoch 126/200\n",
      "313/313 [==============================] - 2s 6ms/step - loss: 0.1054 - accuracy: 0.9618 - val_loss: 0.2462 - val_accuracy: 0.9190\n",
      "Epoch 127/200\n",
      "313/313 [==============================] - 2s 6ms/step - loss: 0.0978 - accuracy: 0.9649 - val_loss: 0.2540 - val_accuracy: 0.9220\n",
      "Epoch 128/200\n",
      "313/313 [==============================] - 2s 6ms/step - loss: 0.0930 - accuracy: 0.9656 - val_loss: 0.2731 - val_accuracy: 0.9180\n",
      "Epoch 129/200\n",
      "313/313 [==============================] - 2s 6ms/step - loss: 0.0964 - accuracy: 0.9672 - val_loss: 0.2473 - val_accuracy: 0.9170\n",
      "Epoch 130/200\n",
      "313/313 [==============================] - 2s 6ms/step - loss: 0.0874 - accuracy: 0.9704 - val_loss: 0.3134 - val_accuracy: 0.9100\n",
      "Epoch 131/200\n",
      "313/313 [==============================] - 2s 6ms/step - loss: 0.0904 - accuracy: 0.9687 - val_loss: 0.2615 - val_accuracy: 0.9190\n",
      "Epoch 132/200\n",
      "313/313 [==============================] - 2s 6ms/step - loss: 0.0885 - accuracy: 0.9685 - val_loss: 0.2788 - val_accuracy: 0.9230\n",
      "Epoch 133/200\n",
      "313/313 [==============================] - 2s 6ms/step - loss: 0.0743 - accuracy: 0.9712 - val_loss: 0.2460 - val_accuracy: 0.9130\n",
      "Epoch 134/200\n",
      "313/313 [==============================] - 2s 6ms/step - loss: 0.0801 - accuracy: 0.9721 - val_loss: 0.2477 - val_accuracy: 0.9180\n",
      "Epoch 135/200\n",
      "313/313 [==============================] - 2s 6ms/step - loss: 0.0799 - accuracy: 0.9729 - val_loss: 0.2754 - val_accuracy: 0.9220\n",
      "Epoch 136/200\n",
      "313/313 [==============================] - 2s 6ms/step - loss: 0.0769 - accuracy: 0.9721 - val_loss: 0.2789 - val_accuracy: 0.9220\n",
      "Epoch 137/200\n",
      "313/313 [==============================] - 2s 6ms/step - loss: 0.0750 - accuracy: 0.9735 - val_loss: 0.2671 - val_accuracy: 0.9190\n",
      "Epoch 138/200\n",
      "313/313 [==============================] - 2s 6ms/step - loss: 0.0694 - accuracy: 0.9769 - val_loss: 0.2999 - val_accuracy: 0.9240\n",
      "Epoch 139/200\n",
      "313/313 [==============================] - 2s 6ms/step - loss: 0.0718 - accuracy: 0.9749 - val_loss: 0.2795 - val_accuracy: 0.9270\n",
      "Epoch 140/200\n",
      "313/313 [==============================] - 2s 6ms/step - loss: 0.0785 - accuracy: 0.9739 - val_loss: 0.2602 - val_accuracy: 0.9250\n",
      "Epoch 141/200\n",
      "313/313 [==============================] - 2s 6ms/step - loss: 0.0691 - accuracy: 0.9765 - val_loss: 0.2697 - val_accuracy: 0.9240\n",
      "Epoch 142/200\n",
      "313/313 [==============================] - 2s 6ms/step - loss: 0.0653 - accuracy: 0.9763 - val_loss: 0.3242 - val_accuracy: 0.9190\n",
      "Epoch 143/200\n",
      "313/313 [==============================] - 2s 6ms/step - loss: 0.0702 - accuracy: 0.9773 - val_loss: 0.2762 - val_accuracy: 0.9240\n",
      "Epoch 144/200\n",
      "313/313 [==============================] - 2s 6ms/step - loss: 0.0656 - accuracy: 0.9779 - val_loss: 0.2696 - val_accuracy: 0.9270\n",
      "Epoch 145/200\n",
      "313/313 [==============================] - 2s 6ms/step - loss: 0.0648 - accuracy: 0.9791 - val_loss: 0.3060 - val_accuracy: 0.9260\n",
      "Epoch 146/200\n",
      "313/313 [==============================] - 2s 6ms/step - loss: 0.0632 - accuracy: 0.9780 - val_loss: 0.2724 - val_accuracy: 0.9300\n",
      "Epoch 147/200\n",
      "313/313 [==============================] - 2s 6ms/step - loss: 0.0643 - accuracy: 0.9781 - val_loss: 0.2347 - val_accuracy: 0.9230\n",
      "Epoch 148/200\n",
      "313/313 [==============================] - 2s 6ms/step - loss: 0.0637 - accuracy: 0.9793 - val_loss: 0.2442 - val_accuracy: 0.9260\n",
      "Epoch 149/200\n",
      "313/313 [==============================] - 2s 6ms/step - loss: 0.0564 - accuracy: 0.9803 - val_loss: 0.2906 - val_accuracy: 0.9270\n",
      "Epoch 150/200\n",
      "313/313 [==============================] - 2s 6ms/step - loss: 0.0544 - accuracy: 0.9804 - val_loss: 0.2832 - val_accuracy: 0.9260\n",
      "Epoch 151/200\n",
      "313/313 [==============================] - 2s 6ms/step - loss: 0.0571 - accuracy: 0.9807 - val_loss: 0.2661 - val_accuracy: 0.9300\n",
      "Epoch 152/200\n",
      "313/313 [==============================] - 2s 6ms/step - loss: 0.0534 - accuracy: 0.9818 - val_loss: 0.2888 - val_accuracy: 0.9240\n",
      "Epoch 153/200\n",
      "313/313 [==============================] - 2s 6ms/step - loss: 0.0602 - accuracy: 0.9793 - val_loss: 0.2626 - val_accuracy: 0.9310\n",
      "Epoch 154/200\n",
      "313/313 [==============================] - 2s 6ms/step - loss: 0.0556 - accuracy: 0.9811 - val_loss: 0.2899 - val_accuracy: 0.9350\n",
      "Epoch 155/200\n",
      "313/313 [==============================] - 2s 6ms/step - loss: 0.0623 - accuracy: 0.9808 - val_loss: 0.2358 - val_accuracy: 0.9350\n",
      "Epoch 156/200\n",
      "313/313 [==============================] - 2s 6ms/step - loss: 0.0515 - accuracy: 0.9818 - val_loss: 0.2769 - val_accuracy: 0.9320\n",
      "Epoch 157/200\n",
      "313/313 [==============================] - 2s 6ms/step - loss: 0.0483 - accuracy: 0.9849 - val_loss: 0.2675 - val_accuracy: 0.9310\n",
      "Epoch 158/200\n",
      "313/313 [==============================] - 2s 6ms/step - loss: 0.0483 - accuracy: 0.9836 - val_loss: 0.2945 - val_accuracy: 0.9370\n",
      "Epoch 159/200\n",
      "313/313 [==============================] - 2s 6ms/step - loss: 0.0552 - accuracy: 0.9828 - val_loss: 0.2850 - val_accuracy: 0.9330\n",
      "Epoch 160/200\n",
      "313/313 [==============================] - 2s 6ms/step - loss: 0.0488 - accuracy: 0.9842 - val_loss: 0.2656 - val_accuracy: 0.9360\n",
      "Epoch 161/200\n",
      "313/313 [==============================] - 2s 6ms/step - loss: 0.0513 - accuracy: 0.9841 - val_loss: 0.3091 - val_accuracy: 0.9310\n",
      "Epoch 162/200\n",
      "313/313 [==============================] - 2s 6ms/step - loss: 0.0477 - accuracy: 0.9866 - val_loss: 0.2697 - val_accuracy: 0.9340\n",
      "Epoch 163/200\n",
      "313/313 [==============================] - 2s 6ms/step - loss: 0.0435 - accuracy: 0.9863 - val_loss: 0.3399 - val_accuracy: 0.9270\n",
      "Epoch 164/200\n",
      "313/313 [==============================] - 2s 6ms/step - loss: 0.0475 - accuracy: 0.9861 - val_loss: 0.3354 - val_accuracy: 0.9260\n",
      "Epoch 165/200\n",
      "313/313 [==============================] - 2s 6ms/step - loss: 0.0418 - accuracy: 0.9865 - val_loss: 0.2811 - val_accuracy: 0.9310\n",
      "Epoch 166/200\n",
      "313/313 [==============================] - 2s 6ms/step - loss: 0.0509 - accuracy: 0.9848 - val_loss: 0.2594 - val_accuracy: 0.9320\n",
      "Epoch 167/200\n",
      "313/313 [==============================] - 2s 6ms/step - loss: 0.0413 - accuracy: 0.9874 - val_loss: 0.3005 - val_accuracy: 0.9340\n",
      "Epoch 168/200\n",
      "313/313 [==============================] - 2s 6ms/step - loss: 0.0408 - accuracy: 0.9877 - val_loss: 0.3100 - val_accuracy: 0.9270\n",
      "Epoch 169/200\n",
      "313/313 [==============================] - 2s 6ms/step - loss: 0.0378 - accuracy: 0.9877 - val_loss: 0.3271 - val_accuracy: 0.9310\n",
      "Epoch 170/200\n",
      "313/313 [==============================] - 2s 6ms/step - loss: 0.0449 - accuracy: 0.9871 - val_loss: 0.2908 - val_accuracy: 0.9360\n",
      "Epoch 171/200\n",
      "313/313 [==============================] - 2s 6ms/step - loss: 0.0408 - accuracy: 0.9869 - val_loss: 0.3252 - val_accuracy: 0.9350\n",
      "Epoch 172/200\n",
      "313/313 [==============================] - 2s 6ms/step - loss: 0.0384 - accuracy: 0.9886 - val_loss: 0.3383 - val_accuracy: 0.9290\n",
      "Epoch 173/200\n",
      "313/313 [==============================] - 2s 6ms/step - loss: 0.0427 - accuracy: 0.9873 - val_loss: 0.3217 - val_accuracy: 0.9350\n",
      "Epoch 174/200\n",
      "313/313 [==============================] - 2s 6ms/step - loss: 0.0346 - accuracy: 0.9893 - val_loss: 0.3136 - val_accuracy: 0.9370\n",
      "Epoch 175/200\n",
      "313/313 [==============================] - 2s 6ms/step - loss: 0.0392 - accuracy: 0.9869 - val_loss: 0.2889 - val_accuracy: 0.9310\n",
      "Epoch 176/200\n",
      "313/313 [==============================] - 2s 6ms/step - loss: 0.0383 - accuracy: 0.9883 - val_loss: 0.2968 - val_accuracy: 0.9420\n",
      "Epoch 177/200\n",
      "313/313 [==============================] - 2s 6ms/step - loss: 0.0389 - accuracy: 0.9878 - val_loss: 0.3549 - val_accuracy: 0.9300\n",
      "Epoch 178/200\n",
      "313/313 [==============================] - 2s 6ms/step - loss: 0.0378 - accuracy: 0.9885 - val_loss: 0.3094 - val_accuracy: 0.9360\n",
      "Epoch 179/200\n",
      "313/313 [==============================] - 2s 6ms/step - loss: 0.0378 - accuracy: 0.9888 - val_loss: 0.3014 - val_accuracy: 0.9350\n",
      "Epoch 180/200\n",
      "313/313 [==============================] - 2s 6ms/step - loss: 0.0344 - accuracy: 0.9908 - val_loss: 0.2815 - val_accuracy: 0.9370\n",
      "Epoch 181/200\n",
      "313/313 [==============================] - 2s 6ms/step - loss: 0.0341 - accuracy: 0.9899 - val_loss: 0.2940 - val_accuracy: 0.9400\n",
      "Epoch 182/200\n",
      "313/313 [==============================] - 2s 6ms/step - loss: 0.0377 - accuracy: 0.9877 - val_loss: 0.3067 - val_accuracy: 0.9360\n",
      "Epoch 183/200\n",
      "313/313 [==============================] - 2s 6ms/step - loss: 0.0372 - accuracy: 0.9882 - val_loss: 0.3054 - val_accuracy: 0.9350\n",
      "Epoch 184/200\n",
      "313/313 [==============================] - 2s 6ms/step - loss: 0.0370 - accuracy: 0.9889 - val_loss: 0.3351 - val_accuracy: 0.9320\n",
      "Epoch 185/200\n",
      "313/313 [==============================] - 2s 6ms/step - loss: 0.0384 - accuracy: 0.9887 - val_loss: 0.3395 - val_accuracy: 0.9300\n",
      "Epoch 186/200\n",
      "313/313 [==============================] - 2s 6ms/step - loss: 0.0330 - accuracy: 0.9905 - val_loss: 0.3825 - val_accuracy: 0.9290\n",
      "Epoch 187/200\n",
      "313/313 [==============================] - 2s 6ms/step - loss: 0.0304 - accuracy: 0.9910 - val_loss: 0.3021 - val_accuracy: 0.9300\n",
      "Epoch 188/200\n",
      "313/313 [==============================] - 2s 6ms/step - loss: 0.0328 - accuracy: 0.9901 - val_loss: 0.3336 - val_accuracy: 0.9280\n",
      "Epoch 189/200\n",
      "313/313 [==============================] - 2s 6ms/step - loss: 0.0310 - accuracy: 0.9911 - val_loss: 0.3534 - val_accuracy: 0.9330\n",
      "Epoch 190/200\n",
      "313/313 [==============================] - 2s 6ms/step - loss: 0.0347 - accuracy: 0.9890 - val_loss: 0.3232 - val_accuracy: 0.9360\n",
      "Epoch 191/200\n",
      "313/313 [==============================] - 2s 6ms/step - loss: 0.0315 - accuracy: 0.9897 - val_loss: 0.3660 - val_accuracy: 0.9370\n",
      "Epoch 192/200\n",
      "313/313 [==============================] - 2s 6ms/step - loss: 0.0362 - accuracy: 0.9889 - val_loss: 0.2972 - val_accuracy: 0.9420\n",
      "Epoch 193/200\n",
      "313/313 [==============================] - 2s 6ms/step - loss: 0.0329 - accuracy: 0.9893 - val_loss: 0.3339 - val_accuracy: 0.9400\n",
      "Epoch 194/200\n",
      "313/313 [==============================] - 2s 6ms/step - loss: 0.0304 - accuracy: 0.9913 - val_loss: 0.3266 - val_accuracy: 0.9360\n",
      "Epoch 195/200\n",
      "313/313 [==============================] - 2s 6ms/step - loss: 0.0290 - accuracy: 0.9916 - val_loss: 0.3663 - val_accuracy: 0.9400\n",
      "Epoch 196/200\n",
      "313/313 [==============================] - 2s 6ms/step - loss: 0.0338 - accuracy: 0.9904 - val_loss: 0.3140 - val_accuracy: 0.9410\n",
      "Epoch 197/200\n",
      "313/313 [==============================] - 2s 6ms/step - loss: 0.0252 - accuracy: 0.9925 - val_loss: 0.3215 - val_accuracy: 0.9380\n",
      "Epoch 198/200\n",
      "313/313 [==============================] - 2s 6ms/step - loss: 0.0302 - accuracy: 0.9923 - val_loss: 0.3142 - val_accuracy: 0.9380\n",
      "Epoch 199/200\n",
      "313/313 [==============================] - 2s 6ms/step - loss: 0.0287 - accuracy: 0.9911 - val_loss: 0.3229 - val_accuracy: 0.9400\n",
      "Epoch 200/200\n",
      "313/313 [==============================] - 2s 6ms/step - loss: 0.0281 - accuracy: 0.9901 - val_loss: 0.2926 - val_accuracy: 0.9360\n"
     ]
    }
   ],
   "source": [
    "# training the model\n",
    "# train on 10000 samples, validate on 1000 samples\n",
    "\n",
    "history = model.fit([inputs_train, queries_train], answers_train,batch_size=32,epochs=200,validation_data=([inputs_test, queries_test], answers_test))"
   ]
  },
  {
   "cell_type": "code",
   "execution_count": 61,
   "id": "5f5e9da1-a5c3-4c6a-8a5f-972dc1951fae",
   "metadata": {},
   "outputs": [
    {
     "name": "stderr",
     "output_type": "stream",
     "text": [
      "C:\\Users\\chaco\\anaconda3\\lib\\site-packages\\keras\\engine\\functional.py:1410: CustomMaskWarning: Custom mask layers require a config and must override get_config. When loading, the custom mask layer must be passed to the custom_objects argument.\n",
      "  layer_config = serialize_layer_fn(layer)\n"
     ]
    }
   ],
   "source": [
    "### Saving the model\n",
    "\n",
    "file = 'chatbot_200.h5'\n",
    "model.save(file)"
   ]
  },
  {
   "cell_type": "markdown",
   "id": "0372b8f5-f55e-4c56-a0f2-4292ca24f67e",
   "metadata": {},
   "source": [
    "### Evaluating the Model\n",
    "\n",
    "#### Plotting out Training History"
   ]
  },
  {
   "cell_type": "code",
   "execution_count": 62,
   "id": "2809a814-067c-448b-9169-8f6015e175e4",
   "metadata": {},
   "outputs": [
    {
     "name": "stdout",
     "output_type": "stream",
     "text": [
      "dict_keys(['loss', 'accuracy', 'val_loss', 'val_accuracy'])\n"
     ]
    },
    {
     "data": {
      "image/png": "[encoded data removed]",
      "text/plain": [
       "<Figure size 432x288 with 1 Axes>"
      ]
     },
     "metadata": {
      "needs_background": "light"
     },
     "output_type": "display_data"
    }
   ],
   "source": [
    "import matplotlib.pyplot as plt # importing matplotlib for data visualization\n",
    "%matplotlib inline\n",
    "print(history.history.keys())\n",
    "\n",
    "# summarize history for accuracy\n",
    "\n",
    "plt.plot(history.history['accuracy']) # plotting out history of accuracy\n",
    "plt.plot(history.history['val_accuracy']) # plotting out history of validation accuracy\n",
    "plt.title('model accuracy') # titling the graph\n",
    "plt.ylabel('accuracy') # label for y\n",
    "plt.xlabel('epoch') # label for x\n",
    "plt.legend(['train', 'test'], loc='upper left') # adding the legend and locating it top left\n",
    "plt.show()"
   ]
  },
  {
   "cell_type": "markdown",
   "id": "cfff5c06-717e-4b12-be9e-a797cd531815",
   "metadata": {},
   "source": [
    "### Evaluating on Given Test Set"
   ]
  },
  {
   "cell_type": "code",
   "execution_count": 63,
   "id": "91aa7875-672e-43a4-9e67-66f564479528",
   "metadata": {},
   "outputs": [],
   "source": [
    "# loading the model\n",
    "\n",
    "model.load_weights(file)\n",
    "pred_results = model.predict(([inputs_test, queries_test])) # list of two items. not passing the answers because we want predictions"
   ]
  },
  {
   "cell_type": "code",
   "execution_count": 64,
   "id": "81ee3d52-2648-4ce0-890d-3f464099be64",
   "metadata": {},
   "outputs": [
    {
     "data": {
      "text/plain": [
       "['Mary',\n",
       " 'got',\n",
       " 'the',\n",
       " 'milk',\n",
       " 'there',\n",
       " '.',\n",
       " 'John',\n",
       " 'moved',\n",
       " 'to',\n",
       " 'the',\n",
       " 'bedroom',\n",
       " '.']"
      ]
     },
     "execution_count": 64,
     "metadata": {},
     "output_type": "execute_result"
    }
   ],
   "source": [
    "test_data[0][0]"
   ]
  },
  {
   "cell_type": "code",
   "execution_count": 65,
   "id": "1b9d099b-ea2e-4504-b618-b23054255baa",
   "metadata": {},
   "outputs": [
    {
     "name": "stdout",
     "output_type": "stream",
     "text": [
      "Mary got the milk there . John moved to the bedroom .\n"
     ]
    }
   ],
   "source": [
    "# joining words to forumulate the story\n",
    "\n",
    "story =' '.join(word for word in test_data[0][0])\n",
    "print(story)"
   ]
  },
  {
   "cell_type": "code",
   "execution_count": 66,
   "id": "291df318-4468-4791-9d63-3cc9d66fb4d2",
   "metadata": {},
   "outputs": [
    {
     "name": "stdout",
     "output_type": "stream",
     "text": [
      "Is John in the kitchen ?\n"
     ]
    }
   ],
   "source": [
    "# joining words to forumulate the query\n",
    "\n",
    "query = ' '.join(word for word in test_data[0][1])\n",
    "print(query)"
   ]
  },
  {
   "cell_type": "code",
   "execution_count": 67,
   "id": "e4866a07-e6b6-49f3-880b-3e6e93462c9d",
   "metadata": {},
   "outputs": [
    {
     "name": "stdout",
     "output_type": "stream",
     "text": [
      "True Test Answer from Data is: no\n"
     ]
    }
   ],
   "source": [
    "print(\"True Test Answer from Data is:\",test_data[0][2])"
   ]
  },
  {
   "cell_type": "code",
   "execution_count": 68,
   "id": "50e09f57-8c8b-443b-9a1c-7f45fd146a17",
   "metadata": {},
   "outputs": [
    {
     "name": "stdout",
     "output_type": "stream",
     "text": [
      "Predicted answer is:  no\n",
      "Probability of certainty was:  1.0\n"
     ]
    }
   ],
   "source": [
    "#Generate prediction from model\n",
    "val_max = np.argmax(pred_results[0])\n",
    "\n",
    "for key, val in tokenizer.word_index.items():\n",
    "    if val == val_max:    # if value is equal to the argmax search the word\n",
    "        k = key\n",
    "\n",
    "print(\"Predicted answer is: \", k)\n",
    "print(\"Probability of certainty was: \", pred_results[0][val_max]) # printing out how sure we are of the answer being no by accessing the probability in pred_results"
   ]
  },
  {
   "cell_type": "markdown",
   "id": "e7bd512d-53a4-4cc0-b220-8d0482849d5a",
   "metadata": {},
   "source": [
    "## Writing Own Stories and Questions\n",
    "\n",
    "Remember you can only use words from the existing vocab"
   ]
  },
  {
   "cell_type": "code",
   "execution_count": 69,
   "id": "18dc3aa2-8c4c-4855-af6d-12643089fc40",
   "metadata": {},
   "outputs": [
    {
     "data": {
      "text/plain": [
       "['John',\n",
       " 'left',\n",
       " 'the',\n",
       " 'kitchen',\n",
       " '.',\n",
       " 'Sandra',\n",
       " 'dropped',\n",
       " 'the',\n",
       " 'football',\n",
       " 'in',\n",
       " 'the',\n",
       " 'garden',\n",
       " '.']"
      ]
     },
     "execution_count": 69,
     "metadata": {},
     "output_type": "execute_result"
    }
   ],
   "source": [
    "# Note the whitespace of the periods\n",
    "# limited to the vocabulary it knows\n",
    "\n",
    "my_story = \"John left the kitchen . Sandra dropped the football in the garden .\"   # creating a new story and storing it in a variable\n",
    "my_story.split() # splitting the sentence"
   ]
  },
  {
   "cell_type": "code",
   "execution_count": 70,
   "id": "2a19dc3d-8248-4396-aae5-3e41aa39c30f",
   "metadata": {},
   "outputs": [],
   "source": [
    "my_question = \"Is the football in the garden ?\"    # creating a new question and storing it in a variable"
   ]
  },
  {
   "cell_type": "code",
   "execution_count": 71,
   "id": "62555a08-2551-465e-9401-7b0a9a0d2f28",
   "metadata": {},
   "outputs": [
    {
     "data": {
      "text/plain": [
       "['Is', 'the', 'football', 'in', 'the', 'garden', '?']"
      ]
     },
     "execution_count": 71,
     "metadata": {},
     "output_type": "execute_result"
    }
   ],
   "source": [
    "my_question.split()  # splitting the question"
   ]
  },
  {
   "cell_type": "code",
   "execution_count": 72,
   "id": "b75e71ae-98b3-423b-828d-9e1057172d60",
   "metadata": {},
   "outputs": [],
   "source": [
    "# passing the data into a new variable that formats it the same way as our training data\n",
    "\n",
    "mydata = [(my_story.split(),my_question.split(),'yes')]"
   ]
  },
  {
   "cell_type": "code",
   "execution_count": 73,
   "id": "a17eedfb-14fc-40c9-9120-f67bae018706",
   "metadata": {},
   "outputs": [],
   "source": [
    "# vectorizing new story, question and answer\n",
    "\n",
    "my_story,my_ques,my_ans = vectorize_stories(mydata) "
   ]
  },
  {
   "cell_type": "code",
   "execution_count": 74,
   "id": "f577eed1-d6fd-4990-8814-a1ae9fada60e",
   "metadata": {},
   "outputs": [],
   "source": [
    "# calling on the model to predict an answer based on new story and question\n",
    "\n",
    "pred_results = model.predict(([ my_story, my_ques]))"
   ]
  },
  {
   "cell_type": "code",
   "execution_count": 75,
   "id": "8a9ff72d-bb19-4cd9-aeab-8b8a2b0c4b3d",
   "metadata": {},
   "outputs": [
    {
     "name": "stdout",
     "output_type": "stream",
     "text": [
      "Predicted answer is:  yes\n",
      "Probability of certainty was:  0.99797946\n"
     ]
    }
   ],
   "source": [
    "# generate prediction from model\n",
    "# \n",
    "\n",
    "val_max = np.argmax(pred_results[0])\n",
    "\n",
    "for key, val in tokenizer.word_index.items():\n",
    "    if val == val_max:\n",
    "        k = key\n",
    "\n",
    "print(\"Predicted answer is: \", k)\n",
    "print(\"Probability of certainty was: \", pred_results[0][val_max])"
   ]
  }
 ],
 "metadata": {
  "kernelspec": {
   "display_name": "Python 3",
   "language": "python",
   "name": "python3"
  },
  "language_info": {
   "codemirror_mode": {
    "name": "ipython",
    "version": 3
   },
   "file_extension": ".py",
   "mimetype": "text/x-python",
   "name": "python",
   "nbconvert_exporter": "python",
   "pygments_lexer": "ipython3",
   "version": "3.8.8"
  }
 },
 "nbformat": 4,
 "nbformat_minor": 5
}
